{
  "nbformat": 4,
  "nbformat_minor": 0,
  "metadata": {
    "colab": {
      "name": "run.ipynb",
      "provenance": [],
      "collapsed_sections": []
    },
    "kernelspec": {
      "name": "python3",
      "display_name": "Python 3"
    },
    "language_info": {
      "name": "python"
    }
  },
  "cells": [
    {
      "cell_type": "code",
      "metadata": {
        "colab": {
          "base_uri": "https://localhost:8080/"
        },
        "id": "h62B0cx0s6FT",
        "outputId": "0eb08196-6a41-495e-bd5c-86973530c551"
      },
      "source": [
        "!ls"
      ],
      "execution_count": 1,
      "outputs": [
        {
          "output_type": "stream",
          "text": [
            "sample_data\n"
          ],
          "name": "stdout"
        }
      ]
    },
    {
      "cell_type": "code",
      "metadata": {
        "colab": {
          "base_uri": "https://localhost:8080/"
        },
        "id": "PjGyTX6NupaB",
        "outputId": "90a1cf39-2a97-495e-c077-2d13435656a9"
      },
      "source": [
        "%cd sample_data/"
      ],
      "execution_count": 4,
      "outputs": [
        {
          "output_type": "stream",
          "text": [
            "/content/sample_data\n"
          ],
          "name": "stdout"
        }
      ]
    },
    {
      "cell_type": "code",
      "metadata": {
        "id": "UOa-BJiuty40"
      },
      "source": [
        "import pandas as pd\n",
        "import numpy as np"
      ],
      "execution_count": 2,
      "outputs": []
    },
    {
      "cell_type": "code",
      "metadata": {
        "id": "PeBpwFapub0x"
      },
      "source": [
        "df = pd.read_csv('cancer.csv',header=None)"
      ],
      "execution_count": 12,
      "outputs": []
    },
    {
      "cell_type": "code",
      "metadata": {
        "colab": {
          "base_uri": "https://localhost:8080/"
        },
        "id": "Ls5P0YfRu97W",
        "outputId": "9fa14c36-30a1-4085-b3aa-60fdbeb110e2"
      },
      "source": [
        "df.info()"
      ],
      "execution_count": 8,
      "outputs": [
        {
          "output_type": "stream",
          "text": [
            "<class 'pandas.core.frame.DataFrame'>\n",
            "RangeIndex: 698 entries, 0 to 697\n",
            "Data columns (total 11 columns):\n",
            " #   Column   Non-Null Count  Dtype \n",
            "---  ------   --------------  ----- \n",
            " 0   1000025  698 non-null    int64 \n",
            " 1   5        698 non-null    int64 \n",
            " 2   1        698 non-null    int64 \n",
            " 3   1.1      698 non-null    int64 \n",
            " 4   1.2      698 non-null    int64 \n",
            " 5   2        698 non-null    int64 \n",
            " 6   1.3      698 non-null    object\n",
            " 7   3        698 non-null    int64 \n",
            " 8   1.4      698 non-null    int64 \n",
            " 9   1.5      698 non-null    int64 \n",
            " 10  2.1      698 non-null    int64 \n",
            "dtypes: int64(10), object(1)\n",
            "memory usage: 60.1+ KB\n"
          ],
          "name": "stdout"
        }
      ]
    },
    {
      "cell_type": "code",
      "metadata": {
        "id": "6H907lSuv4Bt"
      },
      "source": [
        "import seaborn as sns\n",
        "import matplotlib.pyplot as plt\n",
        "from sklearn.preprocessing import MinMaxScaler"
      ],
      "execution_count": 15,
      "outputs": []
    },
    {
      "cell_type": "code",
      "metadata": {
        "id": "bz2Scbghv_it"
      },
      "source": [
        "df = df[~df[6].isin(['?'])]                              #eliminate rows that contain ?\n",
        "\n"
      ],
      "execution_count": 13,
      "outputs": []
    },
    {
      "cell_type": "code",
      "metadata": {
        "id": "i5LLC1uJyTsT"
      },
      "source": [
        "df = df.astype(float)\n",
        "df.iloc[:,10].replace(2, 0,inplace=True)                 #changing from 2 to 0 in column 10\n",
        "df.iloc[:,10].replace(4, 1,inplace=True)                 #changing from 4 to 1\n",
        "\n",
        "scaled_df=df\n",
        "names = df.columns[0:10]\n",
        "scaler = MinMaxScaler()                                     # applying normalization\n",
        "scaled_df = scaler.fit_transform(df.iloc[:,0:10])          #when we train the network, we will pick that column from the original df dataframe\n",
        "scaled_df = pd.DataFrame(scaled_df, columns=names)"
      ],
      "execution_count": 16,
      "outputs": []
    },
    {
      "cell_type": "code",
      "metadata": {
        "id": "Yt_l5uhgym-c"
      },
      "source": [
        "\n",
        "X_train=scaled_df.iloc[0:500,1:10].values\n",
        "y_train=df.iloc[0:500,10:].values\n",
        "\n",
        "X_test=scaled_df.iloc[501:683,1:10].values\n",
        "y_test=df.iloc[501:683,10:].values"
      ],
      "execution_count": 21,
      "outputs": []
    },
    {
      "cell_type": "code",
      "metadata": {
        "id": "v0kUeAuey4i2"
      },
      "source": [
        "import tensorflow as tf\n",
        "from tensorflow.keras.models import Sequential\n",
        "from tensorflow.keras.layers import Dense, Activation,Dropout\n",
        "from tensorflow.keras.callbacks import EarlyStopping"
      ],
      "execution_count": 27,
      "outputs": []
    },
    {
      "cell_type": "code",
      "metadata": {
        "colab": {
          "base_uri": "https://localhost:8080/"
        },
        "id": "hZ-MhTQLzMLJ",
        "outputId": "76db548d-20a0-43f0-d16f-b71c0fbee029"
      },
      "source": [
        "X_train.shape"
      ],
      "execution_count": 22,
      "outputs": [
        {
          "output_type": "execute_result",
          "data": {
            "text/plain": [
              "(500, 9)"
            ]
          },
          "metadata": {
            "tags": []
          },
          "execution_count": 22
        }
      ]
    },
    {
      "cell_type": "code",
      "metadata": {
        "colab": {
          "base_uri": "https://localhost:8080/"
        },
        "id": "Q1L6WBJjzzb6",
        "outputId": "59b920ba-d2e8-4554-8634-9f62af275ab4"
      },
      "source": [
        "y_train.shape"
      ],
      "execution_count": 23,
      "outputs": [
        {
          "output_type": "execute_result",
          "data": {
            "text/plain": [
              "(500, 1)"
            ]
          },
          "metadata": {
            "tags": []
          },
          "execution_count": 23
        }
      ]
    },
    {
      "cell_type": "code",
      "metadata": {
        "id": "bUN1wERJz3vE"
      },
      "source": [
        "model = Sequential()\n",
        "\n",
        "\n",
        "model.add(Dense(units=9,activation='relu'))\n",
        "\n",
        "model.add(Dense(units=15,activation='relu'))\n",
        "\n",
        "model.add(Dense(units=7,activation='relu'))\n",
        "\n",
        "\n",
        "model.add(Dense(units=1,activation='sigmoid'))\n",
        "\n",
        "# For a binary classification problem\n",
        "model.compile(loss='binary_crossentropy', optimizer='adam')\n",
        "early_stop = EarlyStopping(monitor='val_loss', mode='min', verbose=1, patience=25)"
      ],
      "execution_count": 35,
      "outputs": []
    },
    {
      "cell_type": "code",
      "metadata": {
        "colab": {
          "base_uri": "https://localhost:8080/"
        },
        "id": "4hZ137vp0Xh9",
        "outputId": "82150a65-5bb1-4ecf-acd3-a6c8b7ed0c29"
      },
      "source": [
        "model.fit(x=X_train, \n",
        "          y=y_train, \n",
        "          epochs=600,\n",
        "          validation_data=(X_test, y_test), verbose=1,\n",
        "          callbacks=[early_stop]\n",
        "          )"
      ],
      "execution_count": 36,
      "outputs": [
        {
          "output_type": "stream",
          "text": [
            "Epoch 1/600\n",
            "16/16 [==============================] - 1s 15ms/step - loss: 0.6669 - val_loss: 0.6545\n",
            "Epoch 2/600\n",
            "16/16 [==============================] - 0s 5ms/step - loss: 0.6393 - val_loss: 0.6229\n",
            "Epoch 3/600\n",
            "16/16 [==============================] - 0s 5ms/step - loss: 0.6093 - val_loss: 0.5842\n",
            "Epoch 4/600\n",
            "16/16 [==============================] - 0s 5ms/step - loss: 0.5653 - val_loss: 0.5378\n",
            "Epoch 5/600\n",
            "16/16 [==============================] - 0s 5ms/step - loss: 0.5113 - val_loss: 0.4828\n",
            "Epoch 6/600\n",
            "16/16 [==============================] - 0s 5ms/step - loss: 0.4604 - val_loss: 0.4201\n",
            "Epoch 7/600\n",
            "16/16 [==============================] - 0s 4ms/step - loss: 0.3951 - val_loss: 0.3524\n",
            "Epoch 8/600\n",
            "16/16 [==============================] - 0s 5ms/step - loss: 0.3476 - val_loss: 0.2832\n",
            "Epoch 9/600\n",
            "16/16 [==============================] - 0s 5ms/step - loss: 0.2766 - val_loss: 0.2217\n",
            "Epoch 10/600\n",
            "16/16 [==============================] - 0s 5ms/step - loss: 0.2306 - val_loss: 0.1694\n",
            "Epoch 11/600\n",
            "16/16 [==============================] - 0s 5ms/step - loss: 0.1968 - val_loss: 0.1318\n",
            "Epoch 12/600\n",
            "16/16 [==============================] - 0s 5ms/step - loss: 0.1790 - val_loss: 0.1030\n",
            "Epoch 13/600\n",
            "16/16 [==============================] - 0s 5ms/step - loss: 0.1444 - val_loss: 0.0849\n",
            "Epoch 14/600\n",
            "16/16 [==============================] - 0s 5ms/step - loss: 0.1505 - val_loss: 0.0709\n",
            "Epoch 15/600\n",
            "16/16 [==============================] - 0s 5ms/step - loss: 0.1173 - val_loss: 0.0608\n",
            "Epoch 16/600\n",
            "16/16 [==============================] - 0s 5ms/step - loss: 0.1331 - val_loss: 0.0546\n",
            "Epoch 17/600\n",
            "16/16 [==============================] - 0s 5ms/step - loss: 0.1178 - val_loss: 0.0486\n",
            "Epoch 18/600\n",
            "16/16 [==============================] - 0s 5ms/step - loss: 0.1133 - val_loss: 0.0462\n",
            "Epoch 19/600\n",
            "16/16 [==============================] - 0s 5ms/step - loss: 0.0982 - val_loss: 0.0419\n",
            "Epoch 20/600\n",
            "16/16 [==============================] - 0s 5ms/step - loss: 0.1387 - val_loss: 0.0396\n",
            "Epoch 21/600\n",
            "16/16 [==============================] - 0s 6ms/step - loss: 0.0919 - val_loss: 0.0369\n",
            "Epoch 22/600\n",
            "16/16 [==============================] - 0s 4ms/step - loss: 0.0960 - val_loss: 0.0341\n",
            "Epoch 23/600\n",
            "16/16 [==============================] - 0s 4ms/step - loss: 0.0976 - val_loss: 0.0327\n",
            "Epoch 24/600\n",
            "16/16 [==============================] - 0s 4ms/step - loss: 0.1014 - val_loss: 0.0311\n",
            "Epoch 25/600\n",
            "16/16 [==============================] - 0s 4ms/step - loss: 0.1071 - val_loss: 0.0305\n",
            "Epoch 26/600\n",
            "16/16 [==============================] - 0s 4ms/step - loss: 0.0986 - val_loss: 0.0296\n",
            "Epoch 27/600\n",
            "16/16 [==============================] - 0s 4ms/step - loss: 0.1085 - val_loss: 0.0278\n",
            "Epoch 28/600\n",
            "16/16 [==============================] - 0s 4ms/step - loss: 0.0955 - val_loss: 0.0265\n",
            "Epoch 29/600\n",
            "16/16 [==============================] - 0s 4ms/step - loss: 0.1224 - val_loss: 0.0260\n",
            "Epoch 30/600\n",
            "16/16 [==============================] - 0s 4ms/step - loss: 0.0864 - val_loss: 0.0270\n",
            "Epoch 31/600\n",
            "16/16 [==============================] - 0s 4ms/step - loss: 0.0995 - val_loss: 0.0251\n",
            "Epoch 32/600\n",
            "16/16 [==============================] - 0s 4ms/step - loss: 0.1002 - val_loss: 0.0244\n",
            "Epoch 33/600\n",
            "16/16 [==============================] - 0s 4ms/step - loss: 0.0784 - val_loss: 0.0239\n",
            "Epoch 34/600\n",
            "16/16 [==============================] - 0s 5ms/step - loss: 0.1086 - val_loss: 0.0242\n",
            "Epoch 35/600\n",
            "16/16 [==============================] - 0s 4ms/step - loss: 0.0903 - val_loss: 0.0234\n",
            "Epoch 36/600\n",
            "16/16 [==============================] - 0s 4ms/step - loss: 0.1043 - val_loss: 0.0234\n",
            "Epoch 37/600\n",
            "16/16 [==============================] - 0s 4ms/step - loss: 0.1015 - val_loss: 0.0224\n",
            "Epoch 38/600\n",
            "16/16 [==============================] - 0s 4ms/step - loss: 0.0643 - val_loss: 0.0216\n",
            "Epoch 39/600\n",
            "16/16 [==============================] - 0s 4ms/step - loss: 0.0924 - val_loss: 0.0215\n",
            "Epoch 40/600\n",
            "16/16 [==============================] - 0s 4ms/step - loss: 0.0851 - val_loss: 0.0214\n",
            "Epoch 41/600\n",
            "16/16 [==============================] - 0s 4ms/step - loss: 0.1172 - val_loss: 0.0223\n",
            "Epoch 42/600\n",
            "16/16 [==============================] - 0s 4ms/step - loss: 0.0740 - val_loss: 0.0212\n",
            "Epoch 43/600\n",
            "16/16 [==============================] - 0s 4ms/step - loss: 0.0807 - val_loss: 0.0207\n",
            "Epoch 44/600\n",
            "16/16 [==============================] - 0s 4ms/step - loss: 0.0652 - val_loss: 0.0207\n",
            "Epoch 45/600\n",
            "16/16 [==============================] - 0s 4ms/step - loss: 0.0812 - val_loss: 0.0211\n",
            "Epoch 46/600\n",
            "16/16 [==============================] - 0s 4ms/step - loss: 0.0803 - val_loss: 0.0205\n",
            "Epoch 47/600\n",
            "16/16 [==============================] - 0s 4ms/step - loss: 0.1028 - val_loss: 0.0209\n",
            "Epoch 48/600\n",
            "16/16 [==============================] - 0s 5ms/step - loss: 0.1019 - val_loss: 0.0204\n",
            "Epoch 49/600\n",
            "16/16 [==============================] - 0s 4ms/step - loss: 0.0756 - val_loss: 0.0200\n",
            "Epoch 50/600\n",
            "16/16 [==============================] - 0s 4ms/step - loss: 0.1078 - val_loss: 0.0204\n",
            "Epoch 51/600\n",
            "16/16 [==============================] - 0s 4ms/step - loss: 0.0964 - val_loss: 0.0196\n",
            "Epoch 52/600\n",
            "16/16 [==============================] - 0s 4ms/step - loss: 0.0777 - val_loss: 0.0203\n",
            "Epoch 53/600\n",
            "16/16 [==============================] - 0s 5ms/step - loss: 0.0553 - val_loss: 0.0187\n",
            "Epoch 54/600\n",
            "16/16 [==============================] - 0s 4ms/step - loss: 0.0836 - val_loss: 0.0191\n",
            "Epoch 55/600\n",
            "16/16 [==============================] - 0s 4ms/step - loss: 0.0891 - val_loss: 0.0194\n",
            "Epoch 56/600\n",
            "16/16 [==============================] - 0s 4ms/step - loss: 0.1015 - val_loss: 0.0192\n",
            "Epoch 57/600\n",
            "16/16 [==============================] - 0s 4ms/step - loss: 0.0957 - val_loss: 0.0190\n",
            "Epoch 58/600\n",
            "16/16 [==============================] - 0s 4ms/step - loss: 0.0771 - val_loss: 0.0195\n",
            "Epoch 59/600\n",
            "16/16 [==============================] - 0s 4ms/step - loss: 0.0807 - val_loss: 0.0202\n",
            "Epoch 60/600\n",
            "16/16 [==============================] - 0s 4ms/step - loss: 0.0789 - val_loss: 0.0196\n",
            "Epoch 61/600\n",
            "16/16 [==============================] - 0s 4ms/step - loss: 0.0870 - val_loss: 0.0192\n",
            "Epoch 62/600\n",
            "16/16 [==============================] - 0s 5ms/step - loss: 0.0660 - val_loss: 0.0186\n",
            "Epoch 63/600\n",
            "16/16 [==============================] - 0s 4ms/step - loss: 0.0932 - val_loss: 0.0193\n",
            "Epoch 64/600\n",
            "16/16 [==============================] - 0s 4ms/step - loss: 0.0626 - val_loss: 0.0193\n",
            "Epoch 65/600\n",
            "16/16 [==============================] - 0s 4ms/step - loss: 0.0751 - val_loss: 0.0188\n",
            "Epoch 66/600\n",
            "16/16 [==============================] - 0s 4ms/step - loss: 0.0628 - val_loss: 0.0180\n",
            "Epoch 67/600\n",
            "16/16 [==============================] - 0s 4ms/step - loss: 0.0784 - val_loss: 0.0194\n",
            "Epoch 68/600\n",
            "16/16 [==============================] - 0s 4ms/step - loss: 0.0663 - val_loss: 0.0188\n",
            "Epoch 69/600\n",
            "16/16 [==============================] - 0s 4ms/step - loss: 0.0797 - val_loss: 0.0182\n",
            "Epoch 70/600\n",
            "16/16 [==============================] - 0s 4ms/step - loss: 0.0732 - val_loss: 0.0186\n",
            "Epoch 71/600\n",
            "16/16 [==============================] - 0s 5ms/step - loss: 0.0754 - val_loss: 0.0175\n",
            "Epoch 72/600\n",
            "16/16 [==============================] - 0s 6ms/step - loss: 0.1014 - val_loss: 0.0180\n",
            "Epoch 73/600\n",
            "16/16 [==============================] - 0s 5ms/step - loss: 0.0637 - val_loss: 0.0181\n",
            "Epoch 74/600\n",
            "16/16 [==============================] - 0s 4ms/step - loss: 0.0767 - val_loss: 0.0179\n",
            "Epoch 75/600\n",
            "16/16 [==============================] - 0s 4ms/step - loss: 0.0667 - val_loss: 0.0177\n",
            "Epoch 76/600\n",
            "16/16 [==============================] - 0s 5ms/step - loss: 0.0862 - val_loss: 0.0181\n",
            "Epoch 77/600\n",
            "16/16 [==============================] - 0s 4ms/step - loss: 0.0819 - val_loss: 0.0184\n",
            "Epoch 78/600\n",
            "16/16 [==============================] - 0s 4ms/step - loss: 0.0702 - val_loss: 0.0175\n",
            "Epoch 79/600\n",
            "16/16 [==============================] - 0s 4ms/step - loss: 0.0539 - val_loss: 0.0169\n",
            "Epoch 80/600\n",
            "16/16 [==============================] - 0s 4ms/step - loss: 0.0764 - val_loss: 0.0178\n",
            "Epoch 81/600\n",
            "16/16 [==============================] - 0s 4ms/step - loss: 0.0860 - val_loss: 0.0176\n",
            "Epoch 82/600\n",
            "16/16 [==============================] - 0s 5ms/step - loss: 0.0677 - val_loss: 0.0170\n",
            "Epoch 83/600\n",
            "16/16 [==============================] - 0s 4ms/step - loss: 0.0517 - val_loss: 0.0167\n",
            "Epoch 84/600\n",
            "16/16 [==============================] - 0s 4ms/step - loss: 0.0671 - val_loss: 0.0169\n",
            "Epoch 85/600\n",
            "16/16 [==============================] - 0s 4ms/step - loss: 0.0707 - val_loss: 0.0169\n",
            "Epoch 86/600\n",
            "16/16 [==============================] - 0s 4ms/step - loss: 0.0755 - val_loss: 0.0175\n",
            "Epoch 87/600\n",
            "16/16 [==============================] - 0s 4ms/step - loss: 0.0618 - val_loss: 0.0159\n",
            "Epoch 88/600\n",
            "16/16 [==============================] - 0s 4ms/step - loss: 0.0826 - val_loss: 0.0170\n",
            "Epoch 89/600\n",
            "16/16 [==============================] - 0s 4ms/step - loss: 0.0767 - val_loss: 0.0171\n",
            "Epoch 90/600\n",
            "16/16 [==============================] - 0s 5ms/step - loss: 0.0694 - val_loss: 0.0168\n",
            "Epoch 91/600\n",
            "16/16 [==============================] - 0s 4ms/step - loss: 0.0622 - val_loss: 0.0163\n",
            "Epoch 92/600\n",
            "16/16 [==============================] - 0s 4ms/step - loss: 0.0563 - val_loss: 0.0163\n",
            "Epoch 93/600\n",
            "16/16 [==============================] - 0s 5ms/step - loss: 0.0543 - val_loss: 0.0162\n",
            "Epoch 94/600\n",
            "16/16 [==============================] - 0s 4ms/step - loss: 0.0569 - val_loss: 0.0163\n",
            "Epoch 95/600\n",
            "16/16 [==============================] - 0s 4ms/step - loss: 0.0744 - val_loss: 0.0168\n",
            "Epoch 96/600\n",
            "16/16 [==============================] - 0s 4ms/step - loss: 0.0916 - val_loss: 0.0168\n",
            "Epoch 97/600\n",
            "16/16 [==============================] - 0s 4ms/step - loss: 0.0594 - val_loss: 0.0160\n",
            "Epoch 98/600\n",
            "16/16 [==============================] - 0s 4ms/step - loss: 0.0642 - val_loss: 0.0164\n",
            "Epoch 99/600\n",
            "16/16 [==============================] - 0s 4ms/step - loss: 0.0862 - val_loss: 0.0160\n",
            "Epoch 100/600\n",
            "16/16 [==============================] - 0s 4ms/step - loss: 0.0861 - val_loss: 0.0165\n",
            "Epoch 101/600\n",
            "16/16 [==============================] - 0s 4ms/step - loss: 0.0790 - val_loss: 0.0165\n",
            "Epoch 102/600\n",
            "16/16 [==============================] - 0s 4ms/step - loss: 0.0498 - val_loss: 0.0157\n",
            "Epoch 103/600\n",
            "16/16 [==============================] - 0s 4ms/step - loss: 0.0842 - val_loss: 0.0162\n",
            "Epoch 104/600\n",
            "16/16 [==============================] - 0s 5ms/step - loss: 0.0904 - val_loss: 0.0162\n",
            "Epoch 105/600\n",
            "16/16 [==============================] - 0s 5ms/step - loss: 0.0577 - val_loss: 0.0155\n",
            "Epoch 106/600\n",
            "16/16 [==============================] - 0s 4ms/step - loss: 0.0689 - val_loss: 0.0159\n",
            "Epoch 107/600\n",
            "16/16 [==============================] - 0s 4ms/step - loss: 0.0699 - val_loss: 0.0156\n",
            "Epoch 108/600\n",
            "16/16 [==============================] - 0s 5ms/step - loss: 0.0534 - val_loss: 0.0150\n",
            "Epoch 109/600\n",
            "16/16 [==============================] - 0s 4ms/step - loss: 0.0674 - val_loss: 0.0157\n",
            "Epoch 110/600\n",
            "16/16 [==============================] - 0s 4ms/step - loss: 0.0769 - val_loss: 0.0165\n",
            "Epoch 111/600\n",
            "16/16 [==============================] - 0s 4ms/step - loss: 0.0789 - val_loss: 0.0158\n",
            "Epoch 112/600\n",
            "16/16 [==============================] - 0s 4ms/step - loss: 0.0589 - val_loss: 0.0155\n",
            "Epoch 113/600\n",
            "16/16 [==============================] - 0s 4ms/step - loss: 0.0765 - val_loss: 0.0154\n",
            "Epoch 114/600\n",
            "16/16 [==============================] - 0s 4ms/step - loss: 0.0544 - val_loss: 0.0154\n",
            "Epoch 115/600\n",
            "16/16 [==============================] - 0s 4ms/step - loss: 0.0685 - val_loss: 0.0155\n",
            "Epoch 116/600\n",
            "16/16 [==============================] - 0s 4ms/step - loss: 0.0686 - val_loss: 0.0158\n",
            "Epoch 117/600\n",
            "16/16 [==============================] - 0s 4ms/step - loss: 0.0646 - val_loss: 0.0154\n",
            "Epoch 118/600\n",
            "16/16 [==============================] - 0s 5ms/step - loss: 0.0597 - val_loss: 0.0155\n",
            "Epoch 119/600\n",
            "16/16 [==============================] - 0s 4ms/step - loss: 0.0634 - val_loss: 0.0153\n",
            "Epoch 120/600\n",
            "16/16 [==============================] - 0s 4ms/step - loss: 0.0433 - val_loss: 0.0155\n",
            "Epoch 121/600\n",
            "16/16 [==============================] - 0s 4ms/step - loss: 0.0824 - val_loss: 0.0164\n",
            "Epoch 122/600\n",
            "16/16 [==============================] - 0s 4ms/step - loss: 0.0785 - val_loss: 0.0155\n",
            "Epoch 123/600\n",
            "16/16 [==============================] - 0s 4ms/step - loss: 0.0763 - val_loss: 0.0157\n",
            "Epoch 124/600\n",
            "16/16 [==============================] - 0s 4ms/step - loss: 0.0605 - val_loss: 0.0154\n",
            "Epoch 125/600\n",
            "16/16 [==============================] - 0s 4ms/step - loss: 0.0538 - val_loss: 0.0152\n",
            "Epoch 126/600\n",
            "16/16 [==============================] - 0s 4ms/step - loss: 0.0504 - val_loss: 0.0150\n",
            "Epoch 127/600\n",
            "16/16 [==============================] - 0s 4ms/step - loss: 0.0622 - val_loss: 0.0158\n",
            "Epoch 128/600\n",
            "16/16 [==============================] - 0s 4ms/step - loss: 0.0638 - val_loss: 0.0154\n",
            "Epoch 129/600\n",
            "16/16 [==============================] - 0s 4ms/step - loss: 0.0757 - val_loss: 0.0157\n",
            "Epoch 130/600\n",
            "16/16 [==============================] - 0s 4ms/step - loss: 0.0559 - val_loss: 0.0147\n",
            "Epoch 131/600\n",
            "16/16 [==============================] - 0s 4ms/step - loss: 0.0532 - val_loss: 0.0156\n",
            "Epoch 132/600\n",
            "16/16 [==============================] - 0s 5ms/step - loss: 0.0608 - val_loss: 0.0157\n",
            "Epoch 133/600\n",
            "16/16 [==============================] - 0s 5ms/step - loss: 0.0608 - val_loss: 0.0155\n",
            "Epoch 134/600\n",
            "16/16 [==============================] - 0s 5ms/step - loss: 0.0495 - val_loss: 0.0156\n",
            "Epoch 135/600\n",
            "16/16 [==============================] - 0s 4ms/step - loss: 0.0715 - val_loss: 0.0159\n",
            "Epoch 136/600\n",
            "16/16 [==============================] - 0s 4ms/step - loss: 0.0742 - val_loss: 0.0155\n",
            "Epoch 137/600\n",
            "16/16 [==============================] - 0s 4ms/step - loss: 0.0388 - val_loss: 0.0149\n",
            "Epoch 138/600\n",
            "16/16 [==============================] - 0s 4ms/step - loss: 0.0633 - val_loss: 0.0159\n",
            "Epoch 139/600\n",
            "16/16 [==============================] - 0s 4ms/step - loss: 0.0467 - val_loss: 0.0170\n",
            "Epoch 140/600\n",
            "16/16 [==============================] - 0s 5ms/step - loss: 0.0605 - val_loss: 0.0156\n",
            "Epoch 141/600\n",
            "16/16 [==============================] - 0s 4ms/step - loss: 0.0822 - val_loss: 0.0162\n",
            "Epoch 142/600\n",
            "16/16 [==============================] - 0s 5ms/step - loss: 0.0813 - val_loss: 0.0155\n",
            "Epoch 143/600\n",
            "16/16 [==============================] - 0s 4ms/step - loss: 0.0670 - val_loss: 0.0163\n",
            "Epoch 144/600\n",
            "16/16 [==============================] - 0s 5ms/step - loss: 0.0659 - val_loss: 0.0155\n",
            "Epoch 145/600\n",
            "16/16 [==============================] - 0s 5ms/step - loss: 0.0550 - val_loss: 0.0159\n",
            "Epoch 146/600\n",
            "16/16 [==============================] - 0s 5ms/step - loss: 0.0594 - val_loss: 0.0154\n",
            "Epoch 147/600\n",
            "16/16 [==============================] - 0s 4ms/step - loss: 0.0761 - val_loss: 0.0156\n",
            "Epoch 148/600\n",
            "16/16 [==============================] - 0s 4ms/step - loss: 0.0716 - val_loss: 0.0158\n",
            "Epoch 149/600\n",
            "16/16 [==============================] - 0s 4ms/step - loss: 0.0770 - val_loss: 0.0161\n",
            "Epoch 150/600\n",
            "16/16 [==============================] - 0s 4ms/step - loss: 0.0476 - val_loss: 0.0149\n",
            "Epoch 151/600\n",
            "16/16 [==============================] - 0s 4ms/step - loss: 0.0666 - val_loss: 0.0154\n",
            "Epoch 152/600\n",
            "16/16 [==============================] - 0s 4ms/step - loss: 0.0557 - val_loss: 0.0150\n",
            "Epoch 153/600\n",
            "16/16 [==============================] - 0s 4ms/step - loss: 0.0762 - val_loss: 0.0155\n",
            "Epoch 154/600\n",
            "16/16 [==============================] - 0s 5ms/step - loss: 0.0732 - val_loss: 0.0153\n",
            "Epoch 155/600\n",
            "16/16 [==============================] - 0s 4ms/step - loss: 0.0581 - val_loss: 0.0155\n",
            "Epoch 00155: early stopping\n"
          ],
          "name": "stdout"
        },
        {
          "output_type": "execute_result",
          "data": {
            "text/plain": [
              "<tensorflow.python.keras.callbacks.History at 0x7fb951f3dc10>"
            ]
          },
          "metadata": {
            "tags": []
          },
          "execution_count": 36
        }
      ]
    },
    {
      "cell_type": "code",
      "metadata": {
        "colab": {
          "base_uri": "https://localhost:8080/",
          "height": 282
        },
        "id": "n8xJWP0p0p7k",
        "outputId": "7f1a3ae3-3fe2-4717-ed88-06659c5e782c"
      },
      "source": [
        "model_loss = pd.DataFrame(model.history.history)\n",
        "model_loss.plot()"
      ],
      "execution_count": 37,
      "outputs": [
        {
          "output_type": "execute_result",
          "data": {
            "text/plain": [
              "<matplotlib.axes._subplots.AxesSubplot at 0x7fb951d42cd0>"
            ]
          },
          "metadata": {
            "tags": []
          },
          "execution_count": 37
        },
        {
          "output_type": "display_data",
          "data": {
            "image/png": "[encoded data removed]",
            "text/plain": [
              "<Figure size 432x288 with 1 Axes>"
            ]
          },
          "metadata": {
            "tags": [],
            "needs_background": "light"
          }
        }
      ]
    },
    {
      "cell_type": "code",
      "metadata": {
        "id": "hWZ2_Vs82HAe"
      },
      "source": [
        "predictions = (model.predict(X_test) > 0.5).astype(\"int32\")"
      ],
      "execution_count": 40,
      "outputs": []
    },
    {
      "cell_type": "code",
      "metadata": {
        "id": "FsGzIvjE2eA8"
      },
      "source": [
        "from sklearn.metrics import classification_report,confusion_matrix"
      ],
      "execution_count": 41,
      "outputs": []
    },
    {
      "cell_type": "code",
      "metadata": {
        "colab": {
          "base_uri": "https://localhost:8080/"
        },
        "id": "E3myG6wn2fIA",
        "outputId": "540a74e5-99d4-48c6-9ecd-5bc369fa92c1"
      },
      "source": [
        "print(confusion_matrix(y_test,predictions))"
      ],
      "execution_count": 42,
      "outputs": [
        {
          "output_type": "stream",
          "text": [
            "[[140   1]\n",
            " [  0  41]]\n"
          ],
          "name": "stdout"
        }
      ]
    }
  ]
}